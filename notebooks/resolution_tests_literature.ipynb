{
 "cells": [
  {
   "attachments": {},
   "cell_type": "markdown",
   "metadata": {},
   "source": [
    "# New resolution tests informed by literature review"
   ]
  },
  {
   "cell_type": "code",
   "execution_count": 4,
   "metadata": {},
   "outputs": [],
   "source": [
    "import importlib\n",
    "\n",
    "import xarray as xr\n",
    "import matplotlib.pyplot as plt\n",
    "import numpy as np\n",
    "import dask\n",
    "\n",
    "from modules import stats\n",
    "import modules.regridding\n",
    "\n",
    "importlib.reload(stats)\n",
    "importlib.reload(modules.regridding)\n",
    "\n",
    "from modules.regridding import Regridder"
   ]
  },
  {
   "attachments": {},
   "cell_type": "markdown",
   "metadata": {},
   "source": [
    "## Estimating the resolution necessary for accurate results"
   ]
  },
  {
   "attachments": {},
   "cell_type": "markdown",
   "metadata": {},
   "source": [
    "### Mean grid spacing: Grötzbach (1983) approximate conditions\n",
    "Two different approximations give (for $\\mathrm{Pr}=1$)\n",
    "$$\n",
    "    (\\Delta x \\Delta z)^{1/2} \\lesssim 4.758\\,\\mathrm{Ra}^{-0.3205}\n",
    "$$\n",
    "and\n",
    "$$\n",
    "    (\\Delta x \\Delta z)^{1/2} \\lesssim 5.23\\,\\mathrm{Ra}^{-0.3205}.\n",
    "$$\n",
    "At $\\mathrm{Ra} = 10^9$ we get"
   ]
  },
  {
   "cell_type": "code",
   "execution_count": 2,
   "metadata": {},
   "outputs": [
    {
     "data": {
      "text/plain": [
       "0.006523339843199475"
      ]
     },
     "execution_count": 2,
     "metadata": {},
     "output_type": "execute_result"
    }
   ],
   "source": [
    "5 * (1e9)**(-0.3205)"
   ]
  },
  {
   "attachments": {},
   "cell_type": "markdown",
   "metadata": {},
   "source": [
    "whereas the mean grid spacing for a resolution of 1024 x 192 is"
   ]
  },
  {
   "cell_type": "code",
   "execution_count": 50,
   "metadata": {},
   "outputs": [
    {
     "data": {
      "text/plain": [
       "0.00637887953849786"
      ]
     },
     "execution_count": 50,
     "metadata": {},
     "output_type": "execute_result"
    }
   ],
   "source": [
    "((8/1024)*(1/192))**(1/2)"
   ]
  },
  {
   "attachments": {},
   "cell_type": "markdown",
   "metadata": {},
   "source": [
    "which, surprisingly, indicates that the current resolution satisfies the condition!"
   ]
  },
  {
   "attachments": {},
   "cell_type": "markdown",
   "metadata": {},
   "source": [
    "### Mean grid spacing: Grötzbach (1983) rigorous condition\n",
    "Grötzbach argues that we have to resolve everything down the Kolmogorov length:\n",
    "$$\n",
    "    (\\Delta x \\Delta z)^{1/2} \\leq \\pi \\eta\n",
    "$$\n",
    "Where the Kolmogorov length $\\eta$ is defined by (Scheel, Emran and Schumacher 2013):\n",
    "$$\n",
    "    \\eta \\equiv \\left( \\frac{\\mathrm{Pr}}{\\mathrm{Ra}} \\right)^{3/8}\n",
    "        \\langle \\epsilon \\rangle^{-1/4}\n",
    "$$\n",
    "and $\\langle \\epsilon \\rangle$ is the spatial and temporal mean of the kinetic energy dissipation rate\n",
    "$$\n",
    "    \\epsilon(\\vec{x},t) \\equiv \\frac{1}{2}\n",
    "        \\left( \\frac{\\mathrm{Pr}}{\\mathrm{Ra}} \\right)^{1/2}\n",
    "        \\sum_{ij} \\left(\n",
    "            \\frac{\\partial u_i}{x_j} + \\frac{\\partial u_j}{x_i}\n",
    "        \\right)^2.\n",
    "$$\n",
    "\n",
    "I compute this using the last 50 time units of data from the highest-resolution run so far (1024 x 192):"
   ]
  },
  {
   "cell_type": "code",
   "execution_count": 41,
   "metadata": {},
   "outputs": [],
   "source": [
    "data = xr.open_mfdataset(\n",
    "    '../data/restest_highRa_v2/1024_192/*.nc',\n",
    "    chunks={'t': 100, 'x': -1, 'z': -1}\n",
    ")\n",
    "data = data.isel(t=(data.t >= 50))"
   ]
  },
  {
   "cell_type": "code",
   "execution_count": 46,
   "metadata": {},
   "outputs": [],
   "source": [
    "# Compute the Jacobian du_i/dx_j\n",
    "jacobian = [[None, None], [None, None]]\n",
    "coords = ['x', 'z']\n",
    "components = [data.u, data.w]\n",
    "for i in range(2):\n",
    "    for j in range(2):\n",
    "        jacobian[i][j] = components[i].differentiate(coords[j])\n",
    "\n",
    "# Compute the sum\n",
    "dissipation = 0\n",
    "for i in range(2):\n",
    "    for j in range(2):\n",
    "        dissipation += (jacobian[i][j] + jacobian[j][i])**2\n",
    "\n",
    "# average over space and time\n",
    "dissipation = dissipation.integrate(['x', 'z', 't'])\n",
    "for dim in ['x', 'z', 't']:\n",
    "    dissipation /= data[dim].max() - data[dim].min()\n",
    "\n",
    "# Multiply by 1/2 (Pr/Ra)^(1/2)\n",
    "prandtl = 1\n",
    "rayleigh = 1e9\n",
    "dissipation *= 0.5*(prandtl/rayleigh)**0.5\n",
    "\n",
    "# Calculate the Kolmogorov length\n",
    "kolmogorov_length = (prandtl/rayleigh)**(3/8) * dissipation**(-1/4)\n",
    "kolmogorov_length = kolmogorov_length.compute().item()"
   ]
  },
  {
   "attachments": {},
   "cell_type": "markdown",
   "metadata": {},
   "source": [
    "So according to Grötzbach the mean grid spacing should be"
   ]
  },
  {
   "cell_type": "code",
   "execution_count": 48,
   "metadata": {},
   "outputs": [
    {
     "name": "stdout",
     "output_type": "stream",
     "text": [
      "0.007259905950292136\n"
     ]
    }
   ],
   "source": [
    "np.pi*kolmogorov_length"
   ]
  },
  {
   "attachments": {},
   "cell_type": "markdown",
   "metadata": {},
   "source": [
    "which is only slightly larger than the approximate value of 0.0065 that we obtained before. Recall that our average grid spacing is"
   ]
  },
  {
   "cell_type": "code",
   "execution_count": 53,
   "metadata": {},
   "outputs": [
    {
     "data": {
      "text/plain": [
       "0.00637887953849786"
      ]
     },
     "execution_count": 53,
     "metadata": {},
     "output_type": "execute_result"
    }
   ],
   "source": [
    "((8/1024)*(1/192))**(1/2)"
   ]
  },
  {
   "attachments": {},
   "cell_type": "markdown",
   "metadata": {},
   "source": [
    "which, again, satisfies Grötzbach's condition!"
   ]
  },
  {
   "attachments": {},
   "cell_type": "markdown",
   "metadata": {},
   "source": [
    "### Number of points in thermal boundary layer\n",
    "There must be sufficiently many vertical levels within the thermal boundary layer, which has thickness (Chillà and Schumacher 2012)\n",
    "$$\n",
    "    \\delta_T = \\frac{1}{2\\,\\mathrm{Nu}(z=0)} = -\\frac{1}{2} \\left( \\left. \\frac{\\partial \\langle \\theta \\rangle _{A,t}}{\\partial z} \\right|_{z=0} \\right)^{-1}\n",
    "$$\n",
    "where $\\langle \\cdot \\rangle _{A,t}$ denotes denotes horizontal and temporal averaging. I find $\\delta_T$ to be"
   ]
  },
  {
   "cell_type": "code",
   "execution_count": 103,
   "metadata": {},
   "outputs": [
    {
     "name": "stdout",
     "output_type": "stream",
     "text": [
      "0.010832330805456187\n"
     ]
    }
   ],
   "source": [
    "profile = data.theta.mean(['x', 't']).compute()\n",
    "lapse_rate = -profile.differentiate('z')\n",
    "bl_thickness = 0.5/lapse_rate.isel(z=0)\n",
    "print(bl_thickness.item())"
   ]
  },
  {
   "attachments": {},
   "cell_type": "markdown",
   "metadata": {},
   "source": [
    "and visualise this value on a plot of the temperature profile:"
   ]
  },
  {
   "cell_type": "code",
   "execution_count": 98,
   "metadata": {},
   "outputs": [
    {
     "data": {
      "text/plain": [
       "[Text(0.5, 0, '$\\\\langle \\\\theta \\\\rangle _{A,t}$'), Text(0, 0.5, '$z$')]"
      ]
     },
     "execution_count": 98,
     "metadata": {},
     "output_type": "execute_result"
    },
    {
     "data": {
      "image/png": "[encoded data removed]",
      "text/plain": [
       "<Figure size 640x480 with 1 Axes>"
      ]
     },
     "metadata": {},
     "output_type": "display_data"
    }
   ],
   "source": [
    "z = np.linspace(0, bl_thickness, 10)\n",
    "fig, ax = plt.subplots()\n",
    "ax.plot(profile, profile.z, '.', label='Temperature profile')\n",
    "ax.fill_between(\n",
    "    ax.get_xlim(), 0, bl_thickness, color='tab:orange', alpha=0.3,\n",
    "    label='Thermal BL'\n",
    ")\n",
    "ax.plot(\n",
    "    0.5 - lapse_rate.isel(z=0).item()*z, z, '--', color='tab:red', alpha=0.7,\n",
    "    label='Tangent at $z=0$'\n",
    ")\n",
    "ax.set_xlim(-0.02, 0.55)\n",
    "ax.set_ylim(-0.005, 0.05)\n",
    "ax.grid()\n",
    "ax.legend()\n",
    "ax.set(xlabel=r'$\\langle \\theta \\rangle _{A,t}$', ylabel='$z$')"
   ]
  },
  {
   "attachments": {},
   "cell_type": "markdown",
   "metadata": {},
   "source": [
    "Indeed, there are"
   ]
  },
  {
   "cell_type": "code",
   "execution_count": 101,
   "metadata": {},
   "outputs": [
    {
     "data": {
      "text/plain": [
       "13"
      ]
     },
     "execution_count": 101,
     "metadata": {},
     "output_type": "execute_result"
    }
   ],
   "source": [
    "(data.z <= bl_thickness).sum().item()"
   ]
  },
  {
   "attachments": {},
   "cell_type": "markdown",
   "metadata": {},
   "source": [
    "vertical levels in the thermal boundary layer. Grötzbach (1983) recommended only 3, and Shishkina et al. (2010) recommended 9 for $\\mathrm{Ra} = 2 \\times 10^9$ based on a theoretical argument."
   ]
  },
  {
   "attachments": {},
   "cell_type": "markdown",
   "metadata": {},
   "source": [
    "### Conclusion\n",
    "According to the basic conditions available in the literature, a 1024 x 192 grid should be producing a reasonably accurate solution."
   ]
  },
  {
   "attachments": {},
   "cell_type": "markdown",
   "metadata": {},
   "source": [
    "## Resolution dependence tests"
   ]
  },
  {
   "attachments": {},
   "cell_type": "markdown",
   "metadata": {},
   "source": [
    "### Nusselt number\n",
    "Scheel, Emran, and Schumacher (2013):\n",
    "$$\n",
    "\\mathrm{Nu}(z,t) \\equiv (\\mathrm{Ra}\\,\\mathrm{Pr})^{1/2} \\langle w \\theta \\rangle _A\n",
    "    - \\frac{\\partial \\langle \\theta \\rangle _A}{\\partial z}.\n",
    "$$"
   ]
  }
 ],
 "metadata": {
  "kernelspec": {
   "display_name": "hons",
   "language": "python",
   "name": "python3"
  },
  "language_info": {
   "codemirror_mode": {
    "name": "ipython",
    "version": 3
   },
   "file_extension": ".py",
   "mimetype": "text/x-python",
   "name": "python",
   "nbconvert_exporter": "python",
   "pygments_lexer": "ipython3",
   "version": "3.11.3"
  },
  "orig_nbformat": 4
 },
 "nbformat": 4,
 "nbformat_minor": 2
}
