{
 "cells": [
  {
   "attachments": {},
   "cell_type": "markdown",
   "metadata": {},
   "source": [
    "# High Rayleigh number resolution tests, continued"
   ]
  },
  {
   "cell_type": "code",
   "execution_count": 85,
   "metadata": {},
   "outputs": [],
   "source": [
    "import importlib\n",
    "\n",
    "import xarray as xr\n",
    "import matplotlib.pyplot as plt\n",
    "import numpy as np\n",
    "import dask\n",
    "\n",
    "from modules import stats\n",
    "import modules.regridding\n",
    "\n",
    "importlib.reload(stats)\n",
    "importlib.reload(regridding)\n",
    "\n",
    "from modules.regridding import Regridder"
   ]
  },
  {
   "attachments": {},
   "cell_type": "markdown",
   "metadata": {},
   "source": [
    "## Model runs"
   ]
  },
  {
   "cell_type": "code",
   "execution_count": 30,
   "metadata": {},
   "outputs": [
    {
     "name": "stdout",
     "output_type": "stream",
     "text": [
      "(N_x, N_z, dt):\n",
      "[[ 256.    128.      3.2 ]\n",
      " [ 384.    128.      2.91]\n",
      " [ 512.    128.      2.67]\n",
      " [ 768.    128.      2.29]\n",
      " [1024.    128.      2.  ]]\n"
     ]
    }
   ],
   "source": [
    "nx0 = 1024\n",
    "nz0 = 128\n",
    "dt0 = 2e-3\n",
    "alpha = 8\n",
    "\n",
    "nx = np.array([256, 384, 512, 768, 1024])\n",
    "nz = np.array([128])\n",
    "nx, nz = np.meshgrid(nx, nz)\n",
    "dt = (nx0/alpha + nz0)/(nx/alpha + nz)*dt0\n",
    "dt = np.round(dt*1e3, 2)\n",
    "\n",
    "print('(N_x, N_z, dt):')\n",
    "print(np.array(list(zip(nx.flat, nz.flat, dt.flat))))"
   ]
  },
  {
   "cell_type": "code",
   "execution_count": 52,
   "metadata": {},
   "outputs": [],
   "source": [
    "data = {}\n",
    "for nx in [256, 384, 512, 768]:\n",
    "    name = f'{nx}_128/*.nc'\n",
    "    ds = xr.open_mfdataset(f'../data/restest_highRa_v2/{name}')\n",
    "    with dask.config.set(**{'array.slicing.split_large_chunks': True}):\n",
    "        ds = ds.drop_duplicates('t')\n",
    "    data[(nx, 128)] = ds\n",
    "\n",
    "ds = xr.open_mfdataset('../data/highRa_tests/nonlinear_hyper_test/*.nc')\n",
    "with dask.config.set(**{'array.slicing.split_large_chunks': True}):\n",
    "    ds = ds.drop_duplicates('t')\n",
    "data[(1024, 128)] = ds"
   ]
  },
  {
   "attachments": {},
   "cell_type": "markdown",
   "metadata": {},
   "source": [
    "## Statistics"
   ]
  },
  {
   "cell_type": "code",
   "execution_count": 101,
   "metadata": {},
   "outputs": [],
   "source": [
    "nx = [256, 384, 512, 768, 1024]\n",
    "nz = [128]\n",
    "w_quantiles = xr.DataArray(\n",
    "    name='quantiles',\n",
    "    coords={'nx': nx, 'nz': nz},\n",
    "    dims=['nx', 'nz'],\n",
    ")\n",
    "theta_quantiles = w_quantiles.copy()\n",
    "for res in data.keys():\n",
    "    regridder = Regridder(data[res], data[(256, 128)], ('x',))\n",
    "    t_range = (data[res].t[-1] - 50., data[res].t[-1])\n",
    "    w_quantile = stats.level_quantile(\n",
    "        data[res].w, 0.5, 0.99, t_range, regridder)\n",
    "    theta_quantile = stats.level_quantile(\n",
    "        data[res].theta, 0.5, 0.99, t_range, regridder)\n",
    "    w_quantiles.loc[dict(nx=res[0], nz=res[1])] = w_quantile\n",
    "    theta_quantiles.loc[dict(nx=res[0], nz=res[1])] = theta_quantile"
   ]
  },
  {
   "cell_type": "code",
   "execution_count": 107,
   "metadata": {},
   "outputs": [
    {
     "data": {
      "image/png": "[encoded data removed]",
      "text/plain": [
       "<Figure size 800x300 with 2 Axes>"
      ]
     },
     "metadata": {},
     "output_type": "display_data"
    }
   ],
   "source": [
    "fig, axes = plt.subplots(1, 2, figsize=(8, 3), sharey=True)\n",
    "\n",
    "da = w_quantiles.sel(nz=128)\n",
    "da = (da/da.sel(nx=1024) - 1)*1e2\n",
    "axes[0].plot(da.nx, da, '.', markersize=10)\n",
    "axes[0].grid()\n",
    "axes[0].set(\n",
    "    xlabel='Horizontal resolution',\n",
    "    ylabel=r'% change vs. finest',\n",
    "    title=r'$|w(z=1/2)|$',\n",
    ")\n",
    "\n",
    "da = theta_quantiles.sel(nz=128)\n",
    "da = (da/da.sel(nx=1024) - 1)*1e2\n",
    "axes[1].plot(da.nx, da, '.', markersize=10)\n",
    "axes[1].grid()\n",
    "axes[1].set(\n",
    "    xlabel='Horizontal resolution',\n",
    "    title=r'$|\\theta(z=1/2)|$')\n",
    "\n",
    "fig.suptitle('99th percentile values')\n",
    "fig.tight_layout()"
   ]
  },
  {
   "cell_type": "code",
   "execution_count": null,
   "metadata": {},
   "outputs": [],
   "source": []
  }
 ],
 "metadata": {
  "kernelspec": {
   "display_name": "hons",
   "language": "python",
   "name": "python3"
  },
  "language_info": {
   "codemirror_mode": {
    "name": "ipython",
    "version": 3
   },
   "file_extension": ".py",
   "mimetype": "text/x-python",
   "name": "python",
   "nbconvert_exporter": "python",
   "pygments_lexer": "ipython3",
   "version": "3.11.3"
  },
  "orig_nbformat": 4
 },
 "nbformat": 4,
 "nbformat_minor": 2
}
