{
 "cells": [
  {
   "attachments": {},
   "cell_type": "markdown",
   "id": "4874be45-6bb8-4dbd-8a5f-2b40064837e0",
   "metadata": {},
   "source": [
    "# Preliminary direct numerical simulation of 2D Rayleigh-Bénard convection\n",
    "In this notebook, I present the first Dedalus simulations and examine their qualitative features."
   ]
  },
  {
   "attachments": {},
   "cell_type": "markdown",
   "id": "1c01225e-b806-4c69-87a0-4f4b24cbc0d2",
   "metadata": {},
   "source": [
    "## Theoretical formulation\n",
    "I consider the nondimensionalised equations in the Boussinesq approximation given by [Busse (1978)](https://doi.org/10.1088/0034-4885/41/12/003):\n",
    "$$\n",
    "\\begin{align*}\n",
    "    \\mathrm{Pr}^{-1} \\left[\\partial_t \\vec{u} + (\\vec{u} \\cdot \\nabla) \\vec{u}\\right] &= - \\nabla \\pi + \\nabla^2 \\vec{u} + \\theta \\hat{z}, \\\\\n",
    "    \\partial_t \\theta + (\\vec{u} \\cdot \\nabla) \\theta &= \\mathrm{Ra}\\, (\\vec{u} \\cdot \\hat{z}) + \\nabla^2 \\theta, \\\\\n",
    "    \\nabla \\cdot \\vec{u} &= 0\n",
    "\\end{align*}\n",
    "$$\n",
    "where:\n",
    "- $\\vec{u} = (u,0,w)$ is the dimensionless velocity,\n",
    "- $\\theta$ is the dimensionless temperature perturbation from the conductive (linear) base profile,\n",
    "- $\\pi$ is the dimensionless pressure perturbation from the hydrostatic base profile,\n",
    "- $\\mathrm{Pr}$ is the Prandtl number, the ratio of kinematic viscosity to thermal diffisivity,\n",
    "- $\\mathrm{Ra}$ is the Rayleigh number, the ratio of the thermal diffusion time scale to the convective time scale.\n",
    "\n",
    "The equations have been nondimensionalised using:\n",
    "- The layer thickness $d$ as the length scale,\n",
    "- The thermal diffusion time $d^2/D$, where $D$ is the thermal diffusivity, as the time scale, and\n",
    "- A temperature perturbation scale $\\delta T/\\mathrm{Ra}$, where $\\delta T$ is the temperature difference between the top and bottom plates.\n",
    "\n",
    "I impose no-slip, isothermal boundary conditions at the top and bottom of the domain,\n",
    "$$\n",
    "\\begin{alignat*}{2}\n",
    "    \\vec{u}(z=0) &= \\vec{u}(z=L_z) &&= \\vec{0}, \\\\\n",
    "    \\theta(z=0) &= \\theta(z=L_z) &&= 0,\n",
    "\\end{alignat*}\n",
    "$$\n",
    "and periodic lateral boundary conditions\n",
    "$$\n",
    "\\begin{align*}\n",
    "    \\vec{u}(x=0) &= \\vec{u}(x=L_x),\\\\\n",
    "    \\theta(x=0) &= \\theta(x=L_x).\n",
    "\\end{align*}\n",
    "$$\n",
    "\n",
    "### Tau terms\n",
    "Dedalus requires us to add *tau terms* of the form $\\tau(x) P(z)$, where $\\tau$ is a new degree of freedom and $P$ is a known polynomial, to the equations. This allows the non-periodic top and bottom boundary conditions to be imposed while ensuring that the system still has exact polynomial solutions (i.e., so it is solvable using spectral methods). Following [the steps in the documentation](https://dedalus-project.readthedocs.io/en/latest/pages/tau_method.html), I introduce six new degrees of freedom\n",
    "$$\n",
    "    \\vec{\\tau}_{u1}(x) = (\\tau_1(x), 0, \\tau_2(x)), \\quad \\vec{\\tau}_{u2}(x) = (\\tau_3(x), 0, \\tau_4(x)),\n",
    "    \\quad \\tau_{\\theta 1}(x), \\quad \\text{and } \\tau_{\\theta 2}(x).\n",
    "$$\n",
    "Defining the auxiliary variables\n",
    "$$\n",
    "\\begin{align*}\n",
    "    G_u &= \\nabla \\otimes \\vec{u} - \\hat{z} \\otimes \\vec{\\tau}_{u1}(x) P(z), \\\\\n",
    "    \\vec{G}_\\theta &= \\nabla \\theta - \\hat{z} \\tau_{\\theta 1}(x) P(z),\n",
    "\\end{align*}\n",
    "$$\n",
    "the equations become\n",
    "$$\n",
    "\\begin{align*}\n",
    "    \\mathrm{Pr}^{-1} \\partial_t \\vec{u} - \\nabla \\cdot G_u + \\nabla \\pi - \\theta \\hat{z} + \\vec{\\tau}_{u2}(x) P(z) &= -\\mathrm{Pr}^{-1} \\vec{u} \\cdot G_u, \\\\\n",
    "    \\partial_t \\theta - \\nabla \\cdot \\vec{G}_\\theta - \\mathrm{Ra}\\, (\\vec{u} \\cdot \\hat{z}) + \\tau_{\\theta 2}(x) P(z) &= -\\vec{u} \\cdot \\vec{G}_\\theta, \\\\\n",
    "    \\operatorname{Tr}(G_u) &= 0.\n",
    "\\end{align*}\n",
    "$$\n",
    "\n",
    "### Pressure gauge condition\n",
    "Since only the gradient of $\\pi$ appears in the equations, there is a gauge freedom in the problem: the pressure is only determined up to a constant. Dedalus requires us to explicitly specify gauge conditions, so since $\\pi$ is a pressure perturbation, I require its mean value to be zero:\n",
    "$$\\int \\pi ~\\mathrm{d}V = 0.$$\n",
    "Following [the documentation](https://dedalus-project.readthedocs.io/en/latest/pages/gauge_conditions.html), I must also introduce a seventh spatially constant tau variable $\\tau_\\pi$ to the divergence equation:\n",
    "$$\\operatorname{Tr}(G_u) + \\tau_\\pi = 0.$$\n",
    "\n",
    "### Final PDE system\n",
    "The final system of equations that I have entered into Dedalus is\n",
    "$$\n",
    "\\begin{align*}\n",
    "    \\mathrm{Pr}^{-1} \\partial_t \\vec{u} - \\nabla \\cdot G_u + \\nabla \\pi - \\theta \\hat{z} + \\vec{\\tau}_{u2}(x) P(z) &= -\\mathrm{Pr}^{-1} \\vec{u} \\cdot G_u, \\\\\n",
    "    \\partial_t \\theta - \\nabla \\cdot \\vec{G}_\\theta - \\mathrm{Ra}\\, (\\vec{u} \\cdot \\hat{z}) + \\tau_{\\theta 2}(x) P(z) &= -\\vec{u} \\cdot \\vec{G}_\\theta, \\\\\n",
    "    \\operatorname{Tr}(G_u) + \\tau_\\pi = 0,\n",
    "\\end{align*}\n",
    "$$\n",
    "with the substitutions\n",
    "$$\n",
    "\\begin{align*}\n",
    "    G_u &= \\nabla \\otimes \\vec{u} - \\hat{z} \\otimes \\vec{\\tau}_{u1}(x) P(z), \\\\\n",
    "    \\vec{G}_\\theta &= \\nabla \\theta - \\hat{z} \\tau_{\\theta 1}(x) P(z),\n",
    "\\end{align*}\n",
    "$$\n",
    "subject to the boundary conditions\n",
    "$$\n",
    "\\begin{alignat*}{2}\n",
    "    \\vec{u}(z=0) &= \\vec{u}(z=L_z) &&= \\vec{0}, \\\\\n",
    "    \\theta(z=0) &= \\theta(z=L_z) &&= 0, \\\\\n",
    "    \\int \\pi ~\\mathrm{d}V &= 0. && \\\\\n",
    "\\end{alignat*}\n",
    "$$\n",
    "The periodic lateral boundaries are handled automatically by using a Fourier basis in the horizontal."
   ]
  },
  {
   "attachments": {},
   "cell_type": "markdown",
   "id": "421701d1",
   "metadata": {},
   "source": [
    "## Implementation and analysis\n",
    "I have adapted the code from [this example notebook](https://dedalus-project.readthedocs.io/en/latest/pages/examples/ivp_2d_rayleigh_benard.html) for 2D RBC in the Dedalus documentation.\n",
    "\n",
    "The choice of parameters is informed by the scales used to nondimensionalise the equations:\n",
    "- The dimensionless length unit is the layer thickness $d$, so the height of the domain must be 1 and the width should be greater than 1 but still on the order of unity,\n",
    "- The time unit is the thermal diffusion time, which is $\\mathrm{Ra}$ times larger than the convective time scale, so in order to resolve convective motions the time step should be on the order of $1/\\mathrm{Ra}$,\n",
    "- Convective instability only occurs for sufficiently large Rayleigh numbers ($\\gtrsim 10^3$ for most cases in the literature).\n",
    "\n",
    "The fluid is initially at rest, with a random, normally distributed temperature perturbation at each point. Since the dimensionless temperature unit is $\\delta T/\\mathrm{Ra}$ and one expects the solution to have temperature variations on the order of $\\delta T$, the initial perturbation should be a few orders of magnitude smaller than $\\mathrm{Ra}$."
   ]
  },
  {
   "cell_type": "code",
   "execution_count": 100,
   "id": "515a9ef0",
   "metadata": {},
   "outputs": [],
   "source": [
    "from IPython.display import Video"
   ]
  },
  {
   "attachments": {},
   "cell_type": "markdown",
   "id": "04907404",
   "metadata": {},
   "source": [
    "### Fine resolution run #1\n",
    "This run has:\n",
    "- Aspect ratio 4\n",
    "- $\\mathrm{Ra} = 10^6$\n",
    "- $\\mathrm{Pr} = 1$\n",
    "- 256 horizontal modes\n",
    "- 64 vertical modes\n",
    "- Time step $1/\\mathrm{Ra} = 10^{-6}$\n",
    "- Simulation length $10^{-1}$ time units\n",
    "\n",
    "Observe that while the flow is initially unsteady, the transient behaviour diminishes and the system converges to a stable periodic solution with four convective cells after about 0.03 time units."
   ]
  },
  {
   "cell_type": "code",
   "execution_count": 99,
   "id": "32ae1e7e",
   "metadata": {},
   "outputs": [
    {
     "data": {
      "text/html": [
       "<video src=\"../data/prelim_dns_fine/prelim_dns_fine_s1.mp4\" controls  >\n",
       "      Your browser does not support the <code>video</code> element.\n",
       "    </video>"
      ],
      "text/plain": [
       "<IPython.core.display.Video object>"
      ]
     },
     "execution_count": 99,
     "metadata": {},
     "output_type": "execute_result"
    }
   ],
   "source": [
    "Video('../data/prelim_dns_fine/prelim_dns_fine_s1.mp4')"
   ]
  },
  {
   "attachments": {},
   "cell_type": "markdown",
   "id": "6213bc11",
   "metadata": {},
   "source": [
    "### Fine resolution run #2\n",
    "I now increase the Rayleigh number by a factor of 10 while keeping the same time step:\n",
    "- Aspect ratio 4\n",
    "- $\\mathrm{Ra} = 10^7$\n",
    "- $\\mathrm{Pr} = 1$\n",
    "- 256 horizontal modes\n",
    "- 64 vertical modes\n",
    "- Time step $10/\\mathrm{Ra} = 10^{-6}$\n",
    "- Simulation length $10^{-1}$ time units\n",
    "\n",
    "The flow now reaches a slightly less steady state."
   ]
  },
  {
   "cell_type": "code",
   "execution_count": 132,
   "id": "1bfce6b3",
   "metadata": {},
   "outputs": [
    {
     "data": {
      "text/html": [
       "<video src=\"../data/prelim_dns_fine2/prelim_dns_fine2_s1.mp4\" controls  >\n",
       "      Your browser does not support the <code>video</code> element.\n",
       "    </video>"
      ],
      "text/plain": [
       "<IPython.core.display.Video object>"
      ]
     },
     "execution_count": 132,
     "metadata": {},
     "output_type": "execute_result"
    }
   ],
   "source": [
    "Video('../data/prelim_dns_fine2/prelim_dns_fine2_s1.mp4')"
   ]
  },
  {
   "attachments": {},
   "cell_type": "markdown",
   "id": "6d87a0e2",
   "metadata": {},
   "source": [
    "### Fine resolution run #3\n",
    "I now increase the Rayleigh number by another factor of 10:\n",
    "- Aspect ratio 4\n",
    "- $\\mathrm{Ra} = 10^8$\n",
    "- $\\mathrm{Pr} = 1$\n",
    "- 256 horizontal modes\n",
    "- 64 vertical modes\n",
    "- Time step $10/\\mathrm{Ra} = 10^{-7}$\n",
    "- Simulation length $10^{-2}$ time units\n",
    "\n",
    "The system is now beginning to exhibit the desired properties. After the initial transients have disappeared, there is still turbulent fine-scale motion superimposed on the large-scale circulation."
   ]
  },
  {
   "cell_type": "code",
   "execution_count": 135,
   "id": "c73b45e0",
   "metadata": {},
   "outputs": [
    {
     "data": {
      "text/html": [
       "<video src=\"../data/prelim_dns_fine3/prelim_dns_fine3_s1.mp4\" controls  >\n",
       "      Your browser does not support the <code>video</code> element.\n",
       "    </video>"
      ],
      "text/plain": [
       "<IPython.core.display.Video object>"
      ]
     },
     "execution_count": 135,
     "metadata": {},
     "output_type": "execute_result"
    }
   ],
   "source": [
    "Video('../data/prelim_dns_fine3/prelim_dns_fine3_s1.mp4')"
   ]
  }
 ],
 "metadata": {
  "kernelspec": {
   "display_name": "Python 3 (ipykernel)",
   "language": "python",
   "name": "python3"
  },
  "language_info": {
   "codemirror_mode": {
    "name": "ipython",
    "version": 3
   },
   "file_extension": ".py",
   "mimetype": "text/x-python",
   "name": "python",
   "nbconvert_exporter": "python",
   "pygments_lexer": "ipython3",
   "version": "3.11.3"
  }
 },
 "nbformat": 4,
 "nbformat_minor": 5
}
